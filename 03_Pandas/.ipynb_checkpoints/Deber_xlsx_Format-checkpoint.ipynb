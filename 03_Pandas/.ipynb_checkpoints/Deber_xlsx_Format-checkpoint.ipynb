{
 "cells": [
  {
   "cell_type": "code",
   "execution_count": 83,
   "metadata": {},
   "outputs": [
    {
     "name": "stderr",
     "output_type": "stream",
     "text": [
      "/usr/local/lib/python3.5/dist-packages/IPython/core/interactiveshell.py:3049: DtypeWarning: Columns (9,13) have mixed types. Specify dtype option on import or set low_memory=False.\n",
      "  interactivity=interactivity, compiler=compiler, result=result)\n"
     ]
    }
   ],
   "source": [
    "import pandas as pd\n",
    "path_guardado = '/home/alex/Documents/py-coronel-flores-freddy-alexander/03_Pandas/data/csv/artwork_data.csv'\n",
    "df = pd.read_csv(path_guardado)\n"
   ]
  },
  {
   "cell_type": "code",
   "execution_count": 84,
   "metadata": {},
   "outputs": [
    {
     "name": "stdout",
     "output_type": "stream",
     "text": [
      "<class 'pandas.core.frame.DataFrame'>\n",
      "RangeIndex: 69201 entries, 0 to 69200\n",
      "Data columns (total 20 columns):\n",
      "id                    69201 non-null int64\n",
      "accession_number      69201 non-null object\n",
      "artist                69201 non-null object\n",
      "artistRole            69201 non-null object\n",
      "artistId              69201 non-null int64\n",
      "title                 69201 non-null object\n",
      "dateText              69201 non-null object\n",
      "medium                62817 non-null object\n",
      "creditLine            69198 non-null object\n",
      "year                  63823 non-null object\n",
      "acquisitionYear       69156 non-null float64\n",
      "dimensions            66768 non-null object\n",
      "width                 65860 non-null object\n",
      "height                65860 non-null object\n",
      "depth                 2514 non-null float64\n",
      "units                 65860 non-null object\n",
      "inscription           6306 non-null object\n",
      "thumbnailCopyright    14239 non-null object\n",
      "thumbnailUrl          58415 non-null object\n",
      "url                   69201 non-null object\n",
      "dtypes: float64(2), int64(2), object(16)\n",
      "memory usage: 10.6+ MB\n"
     ]
    }
   ],
   "source": [
    "df.info()"
   ]
  },
  {
   "cell_type": "code",
   "execution_count": 85,
   "metadata": {},
   "outputs": [
    {
     "data": {
      "text/html": [
       "<div>\n",
       "<style scoped>\n",
       "    .dataframe tbody tr th:only-of-type {\n",
       "        vertical-align: middle;\n",
       "    }\n",
       "\n",
       "    .dataframe tbody tr th {\n",
       "        vertical-align: top;\n",
       "    }\n",
       "\n",
       "    .dataframe thead th {\n",
       "        text-align: right;\n",
       "    }\n",
       "</style>\n",
       "<table border=\"1\" class=\"dataframe\">\n",
       "  <thead>\n",
       "    <tr style=\"text-align: right;\">\n",
       "      <th></th>\n",
       "      <th>id</th>\n",
       "      <th>accession_number</th>\n",
       "      <th>artist</th>\n",
       "      <th>artistRole</th>\n",
       "      <th>artistId</th>\n",
       "      <th>title</th>\n",
       "      <th>dateText</th>\n",
       "      <th>medium</th>\n",
       "      <th>creditLine</th>\n",
       "      <th>year</th>\n",
       "      <th>acquisitionYear</th>\n",
       "      <th>dimensions</th>\n",
       "      <th>width</th>\n",
       "      <th>height</th>\n",
       "      <th>depth</th>\n",
       "      <th>units</th>\n",
       "      <th>inscription</th>\n",
       "      <th>thumbnailCopyright</th>\n",
       "      <th>thumbnailUrl</th>\n",
       "      <th>url</th>\n",
       "    </tr>\n",
       "  </thead>\n",
       "  <tbody>\n",
       "    <tr>\n",
       "      <th>0</th>\n",
       "      <td>1035</td>\n",
       "      <td>A00001</td>\n",
       "      <td>Blake, Robert</td>\n",
       "      <td>artist</td>\n",
       "      <td>38</td>\n",
       "      <td>A Figure Bowing before a Seated Old Man with h...</td>\n",
       "      <td>date not known</td>\n",
       "      <td>Watercolour, ink, chalk and graphite on paper....</td>\n",
       "      <td>Presented by Mrs John Richmond 1922</td>\n",
       "      <td>NaN</td>\n",
       "      <td>1922.0</td>\n",
       "      <td>support: 394 x 419 mm</td>\n",
       "      <td>394</td>\n",
       "      <td>419</td>\n",
       "      <td>NaN</td>\n",
       "      <td>mm</td>\n",
       "      <td>NaN</td>\n",
       "      <td>NaN</td>\n",
       "      <td>http://www.tate.org.uk/art/images/work/A/A00/A...</td>\n",
       "      <td>http://www.tate.org.uk/art/artworks/blake-a-fi...</td>\n",
       "    </tr>\n",
       "    <tr>\n",
       "      <th>1</th>\n",
       "      <td>1036</td>\n",
       "      <td>A00002</td>\n",
       "      <td>Blake, Robert</td>\n",
       "      <td>artist</td>\n",
       "      <td>38</td>\n",
       "      <td>Two Drawings of Frightened Figures, Probably f...</td>\n",
       "      <td>date not known</td>\n",
       "      <td>Graphite on paper</td>\n",
       "      <td>Presented by Mrs John Richmond 1922</td>\n",
       "      <td>NaN</td>\n",
       "      <td>1922.0</td>\n",
       "      <td>support: 311 x 213 mm</td>\n",
       "      <td>311</td>\n",
       "      <td>213</td>\n",
       "      <td>NaN</td>\n",
       "      <td>mm</td>\n",
       "      <td>NaN</td>\n",
       "      <td>NaN</td>\n",
       "      <td>http://www.tate.org.uk/art/images/work/A/A00/A...</td>\n",
       "      <td>http://www.tate.org.uk/art/artworks/blake-two-...</td>\n",
       "    </tr>\n",
       "    <tr>\n",
       "      <th>2</th>\n",
       "      <td>1037</td>\n",
       "      <td>A00003</td>\n",
       "      <td>Blake, Robert</td>\n",
       "      <td>artist</td>\n",
       "      <td>38</td>\n",
       "      <td>The Preaching of Warning. Verso: An Old Man En...</td>\n",
       "      <td>?c.1785</td>\n",
       "      <td>Graphite on paper. Verso: graphite on paper</td>\n",
       "      <td>Presented by Mrs John Richmond 1922</td>\n",
       "      <td>1785</td>\n",
       "      <td>1922.0</td>\n",
       "      <td>support: 343 x 467 mm</td>\n",
       "      <td>343</td>\n",
       "      <td>467</td>\n",
       "      <td>NaN</td>\n",
       "      <td>mm</td>\n",
       "      <td>NaN</td>\n",
       "      <td>NaN</td>\n",
       "      <td>http://www.tate.org.uk/art/images/work/A/A00/A...</td>\n",
       "      <td>http://www.tate.org.uk/art/artworks/blake-the-...</td>\n",
       "    </tr>\n",
       "    <tr>\n",
       "      <th>3</th>\n",
       "      <td>1038</td>\n",
       "      <td>A00004</td>\n",
       "      <td>Blake, Robert</td>\n",
       "      <td>artist</td>\n",
       "      <td>38</td>\n",
       "      <td>Six Drawings of Figures with Outstretched Arms</td>\n",
       "      <td>date not known</td>\n",
       "      <td>Graphite on paper</td>\n",
       "      <td>Presented by Mrs John Richmond 1922</td>\n",
       "      <td>NaN</td>\n",
       "      <td>1922.0</td>\n",
       "      <td>support: 318 x 394 mm</td>\n",
       "      <td>318</td>\n",
       "      <td>394</td>\n",
       "      <td>NaN</td>\n",
       "      <td>mm</td>\n",
       "      <td>NaN</td>\n",
       "      <td>NaN</td>\n",
       "      <td>http://www.tate.org.uk/art/images/work/A/A00/A...</td>\n",
       "      <td>http://www.tate.org.uk/art/artworks/blake-six-...</td>\n",
       "    </tr>\n",
       "    <tr>\n",
       "      <th>4</th>\n",
       "      <td>1039</td>\n",
       "      <td>A00005</td>\n",
       "      <td>Blake, William</td>\n",
       "      <td>artist</td>\n",
       "      <td>39</td>\n",
       "      <td>The Circle of the Lustful: Francesca da Rimini...</td>\n",
       "      <td>1826–7, reprinted 1892</td>\n",
       "      <td>Line engraving on paper</td>\n",
       "      <td>Purchased with the assistance of a special gra...</td>\n",
       "      <td>1826</td>\n",
       "      <td>1919.0</td>\n",
       "      <td>image: 243 x 335 mm</td>\n",
       "      <td>243</td>\n",
       "      <td>335</td>\n",
       "      <td>NaN</td>\n",
       "      <td>mm</td>\n",
       "      <td>NaN</td>\n",
       "      <td>NaN</td>\n",
       "      <td>http://www.tate.org.uk/art/images/work/A/A00/A...</td>\n",
       "      <td>http://www.tate.org.uk/art/artworks/blake-the-...</td>\n",
       "    </tr>\n",
       "  </tbody>\n",
       "</table>\n",
       "</div>"
      ],
      "text/plain": [
       "     id accession_number          artist artistRole  artistId  \\\n",
       "0  1035           A00001   Blake, Robert     artist        38   \n",
       "1  1036           A00002   Blake, Robert     artist        38   \n",
       "2  1037           A00003   Blake, Robert     artist        38   \n",
       "3  1038           A00004   Blake, Robert     artist        38   \n",
       "4  1039           A00005  Blake, William     artist        39   \n",
       "\n",
       "                                               title                dateText  \\\n",
       "0  A Figure Bowing before a Seated Old Man with h...          date not known   \n",
       "1  Two Drawings of Frightened Figures, Probably f...          date not known   \n",
       "2  The Preaching of Warning. Verso: An Old Man En...                 ?c.1785   \n",
       "3     Six Drawings of Figures with Outstretched Arms          date not known   \n",
       "4  The Circle of the Lustful: Francesca da Rimini...  1826–7, reprinted 1892   \n",
       "\n",
       "                                              medium  \\\n",
       "0  Watercolour, ink, chalk and graphite on paper....   \n",
       "1                                  Graphite on paper   \n",
       "2        Graphite on paper. Verso: graphite on paper   \n",
       "3                                  Graphite on paper   \n",
       "4                            Line engraving on paper   \n",
       "\n",
       "                                          creditLine  year  acquisitionYear  \\\n",
       "0                Presented by Mrs John Richmond 1922   NaN           1922.0   \n",
       "1                Presented by Mrs John Richmond 1922   NaN           1922.0   \n",
       "2                Presented by Mrs John Richmond 1922  1785           1922.0   \n",
       "3                Presented by Mrs John Richmond 1922   NaN           1922.0   \n",
       "4  Purchased with the assistance of a special gra...  1826           1919.0   \n",
       "\n",
       "              dimensions width height  depth units inscription  \\\n",
       "0  support: 394 x 419 mm   394    419    NaN    mm         NaN   \n",
       "1  support: 311 x 213 mm   311    213    NaN    mm         NaN   \n",
       "2  support: 343 x 467 mm   343    467    NaN    mm         NaN   \n",
       "3  support: 318 x 394 mm   318    394    NaN    mm         NaN   \n",
       "4    image: 243 x 335 mm   243    335    NaN    mm         NaN   \n",
       "\n",
       "  thumbnailCopyright                                       thumbnailUrl  \\\n",
       "0                NaN  http://www.tate.org.uk/art/images/work/A/A00/A...   \n",
       "1                NaN  http://www.tate.org.uk/art/images/work/A/A00/A...   \n",
       "2                NaN  http://www.tate.org.uk/art/images/work/A/A00/A...   \n",
       "3                NaN  http://www.tate.org.uk/art/images/work/A/A00/A...   \n",
       "4                NaN  http://www.tate.org.uk/art/images/work/A/A00/A...   \n",
       "\n",
       "                                                 url  \n",
       "0  http://www.tate.org.uk/art/artworks/blake-a-fi...  \n",
       "1  http://www.tate.org.uk/art/artworks/blake-two-...  \n",
       "2  http://www.tate.org.uk/art/artworks/blake-the-...  \n",
       "3  http://www.tate.org.uk/art/artworks/blake-six-...  \n",
       "4  http://www.tate.org.uk/art/artworks/blake-the-...  "
      ]
     },
     "execution_count": 85,
     "metadata": {},
     "output_type": "execute_result"
    }
   ],
   "source": [
    "df.head()"
   ]
  },
  {
   "cell_type": "code",
   "execution_count": 86,
   "metadata": {},
   "outputs": [
    {
     "data": {
      "text/plain": [
       "array(['artist', 'attributed to', 'pupil of', 'manner of', 'after',\n",
       "       'formerly attributed to', 'studio of', 'and assistants',\n",
       "       'doubtfully attributed to', 'follower of', 'and studio',\n",
       "       'circle of', 'prints after', 'and other artists', 'and a pupil',\n",
       "       'school of', 'imitator of', 'style of', 'pseudo'], dtype=object)"
      ]
     },
     "execution_count": 86,
     "metadata": {},
     "output_type": "execute_result"
    }
   ],
   "source": [
    "df.artistRole.unique() "
   ]
  },
  {
   "cell_type": "code",
   "execution_count": 87,
   "metadata": {},
   "outputs": [],
   "source": [
    "artistas_roles_contados = df.artistRole.value_counts()\n",
    "writer = pd.ExcelWriter('roles_contados.xlsx',engine='xlsxwriter')\n",
    "artistas_roles_contados.to_excel(writer,sheet_name=\"roles_contados\")\n",
    "hoja_roles = writer.sheets['roles_contados']\n",
    "rango_celdas = 'B2:B{}'.format(len(artistas_roles_contados.index))\n",
    "\n",
    "formato = {\n",
    "    'type':'2_color_scale',\n",
    "    'min_value':'10',\n",
    "    'min_type':'percentile',\n",
    "    'max_value': '99',\n",
    "    'max_type':'percentile'\n",
    "}\n",
    "\n",
    "hoja_roles.conditional_format(rango_celdas, formato)\n",
    "writer.save() "
   ]
  },
  {
   "cell_type": "code",
   "execution_count": 118,
   "metadata": {},
   "outputs": [
    {
     "name": "stdout",
     "output_type": "stream",
     "text": [
      "artistas_orientado_table.json  ejemplo_basico_sin_indices.xlsx\r\n",
      "artworkData2.xlsx\t       ejemplo_basico.xlsx\r\n",
      "artworkData.xlsx\t       F_iloc_loc.py\r\n",
      "B_DataFrames.py\t\t       G_group.py\r\n",
      "bdd_python.db\t\t       multiples_worksheet.xlsx\r\n",
      "C_lectura_csv.py\t       roles_contados2.xlsx\r\n",
      "colores2.xlsx\t\t       roles_contados3.xlsx\r\n",
      "colores_Data_bar.xlsx\t       roles_contados4.xlsx\r\n",
      "colores.xlsx\t\t       roles_contados5.xlsx\r\n",
      "columns.xlsx\t\t       roles_contados6.xlsx\r\n",
      "data\t\t\t       roles_contados7.xlsx\r\n",
      "Deber_xlsx_Format.ipynb        roles_contadosIconSet2.xlsx\r\n",
      "df.json\t\t\t       roles_contadosIconSet3.xlsx\r\n",
      "D_lectura_json.py\t       roles_contadosIconSet4.xlsx\r\n",
      "D_output_data.py\t       roles_contadosIconSet.xlsx\r\n",
      "E_indices_filtrado.py\t       roles_contados.xlsx\r\n"
     ]
    }
   ],
   "source": [
    "!ls"
   ]
  },
  {
   "cell_type": "code",
   "execution_count": 89,
   "metadata": {},
   "outputs": [],
   "source": [
    "def conditional_format(df,formato,rango,name=\"excel.xslx\",sheet_name=\"sheet\"):\n",
    "    writer  = pd.ExcelWriter(name,engine=\"xlsxwriter\")\n",
    "    df.to_excel(writer,sheet_name=sheet_name)\n",
    "    sheets = writer.sheets[sheet_name]\n",
    "    sheets.conditional_format(rango,formato)\n",
    "    writer.save() "
   ]
  },
  {
   "cell_type": "code",
   "execution_count": 90,
   "metadata": {},
   "outputs": [],
   "source": [
    "\n",
    "formato = {\n",
    "    'type':'3_color_scale',\n",
    "    'min_value':'10',\n",
    "    'min_type':'percentile',\n",
    "    'max_value': '99',\n",
    "    'max_type':'percentile'\n",
    "}\n",
    "rango_celdas = 'B2:B{}'.format(len(artistas_roles_contados.index))\n",
    "\n",
    "conditional_format(artistas_roles_contados,formato,rango_celdas,name='roles_contados2.xlsx',sheet_name=\"roles_contados2\")\n"
   ]
  },
  {
   "cell_type": "code",
   "execution_count": 91,
   "metadata": {},
   "outputs": [],
   "source": [
    "\n",
    "formato = {\n",
    "    'type':'data_bar',\n",
    "    'min_value':'1',\n",
    "    'min_type':'min',\n",
    "    'max_value': '99',\n",
    "    'max_type':'max'\n",
    "}\n",
    "rango_celdas = 'B2:B{}'.format(len(artistas_roles_contados.index))\n",
    "\n",
    "conditional_format(artistas_roles_contados,formato,rango_celdas,name='roles_contados3.xlsx',sheet_name=\"roles_contados3\")\n"
   ]
  },
  {
   "cell_type": "code",
   "execution_count": 92,
   "metadata": {},
   "outputs": [],
   "source": [
    "\n",
    "formato = {\n",
    "    'type':'data_bar',\n",
    "    'min_value':'1',\n",
    "    'min_type':'percent',\n",
    "    'max_value': '99',\n",
    "    'max_type':'percent',\n",
    "    'bar_color': '#14bc55', # verde \n",
    "  \n",
    "}\n",
    "rango_celdas = 'B2:B{}'.format(len(artistas_roles_contados.index))\n",
    "\n",
    "conditional_format(artistas_roles_contados,formato,rango_celdas,name='roles_contados4.xlsx',sheet_name=\"roles_contados4\")\n"
   ]
  },
  {
   "cell_type": "code",
   "execution_count": 93,
   "metadata": {},
   "outputs": [
    {
     "data": {
      "text/plain": [
       "pseudo                     -8\n",
       "studio of                  -7\n",
       "imitator of                -5\n",
       "school of                  -4\n",
       "and a pupil                -4\n",
       "and assistants             -3\n",
       "follower of                -2\n",
       "style of                   -1\n",
       "doubtfully attributed to   -1\n",
       "circle of                  -1\n",
       "and studio                 -1\n",
       "Name: artistRole, dtype: int64"
      ]
     },
     "execution_count": 93,
     "metadata": {},
     "output_type": "execute_result"
    }
   ],
   "source": [
    "artistas_roles_contados[artistas_roles_contados<11]*-1"
   ]
  },
  {
   "cell_type": "code",
   "execution_count": 94,
   "metadata": {},
   "outputs": [],
   "source": [
    "artistas_roles_contados[artistas_roles_contados<11] = artistas_roles_contados[artistas_roles_contados<11]*-2"
   ]
  },
  {
   "cell_type": "code",
   "execution_count": 95,
   "metadata": {},
   "outputs": [
    {
     "data": {
      "text/plain": [
       "artist                      66907\n",
       "after                        2014\n",
       "attributed to                 164\n",
       "manner of                      24\n",
       "pupil of                       18\n",
       "formerly attributed to         14\n",
       "and other artists              12\n",
       "prints after                   11\n",
       "pseudo                        -16\n",
       "studio of                     -14\n",
       "imitator of                   -10\n",
       "school of                      -8\n",
       "and a pupil                    -8\n",
       "and assistants                 -6\n",
       "follower of                    -4\n",
       "style of                       -2\n",
       "doubtfully attributed to       -2\n",
       "circle of                      -2\n",
       "and studio                     -2\n",
       "Name: artistRole, dtype: int64"
      ]
     },
     "execution_count": 95,
     "metadata": {},
     "output_type": "execute_result"
    }
   ],
   "source": [
    "artistas_roles_contados"
   ]
  },
  {
   "cell_type": "code",
   "execution_count": 100,
   "metadata": {},
   "outputs": [],
   "source": [
    "formato = {\n",
    "    'type':'data_bar',\n",
    "    'min_value':'1',\n",
    "    'min_type':'percent',\n",
    "    'max_value': '99',\n",
    "    'max_type':'percent',\n",
    "    'bar_color': '#14bc55',\n",
    "  \n",
    "}\n",
    "rango_celdas = 'B2:B{}'.format(len(artistas_roles_contados.index))\n",
    "\n",
    "conditional_format(artistas_roles_contados,formato,rango_celdas,name='roles_contados5.xlsx',sheet_name=\"roles_contados5\")\n"
   ]
  },
  {
   "cell_type": "code",
   "execution_count": 103,
   "metadata": {},
   "outputs": [],
   "source": [
    "formato = {\n",
    "    'type':'data_bar',\n",
    "    'min_value':'20',\n",
    "    'min_type':'percentile',\n",
    "    'max_value': '99',\n",
    "    'max_type':'percentile',\n",
    "    'bar_color': '#14bc55',\n",
    "    'bar_axis_position': 'middle',\n",
    "\n",
    "   \n",
    "}\n",
    "rango_celdas = 'B2:B{}'.format(len(artistas_roles_contados.index))\n",
    "\n",
    "conditional_format(artistas_roles_contados,formato,rango_celdas,name='roles_contados6.xlsx',sheet_name=\"roles_contados6\")\n"
   ]
  },
  {
   "cell_type": "code",
   "execution_count": 98,
   "metadata": {},
   "outputs": [],
   "source": [
    "# icon set\n",
    "formato = {\n",
    "    'type': 'icon_set',\n",
    "           \n",
    "    'icon_style': '3_traffic_lights'\n",
    "}\n",
    "conditional_format(artistas_roles_contados,formato,rango_celdas,name='roles_contadosIconSet.xlsx',sheet_name=\"roles_contadosIconSet\")\n",
    "\n"
   ]
  },
  {
   "cell_type": "code",
   "execution_count": 101,
   "metadata": {},
   "outputs": [],
   "source": [
    "# icon set\n",
    "formato = {\n",
    "    'type': 'icon_set',\n",
    "           \n",
    "    'icon_style': '4_ratings'\n",
    "}\n",
    "conditional_format(artistas_roles_contados,formato,rango_celdas,name='roles_contadosIconSet2.xlsx',sheet_name=\"roles_contadosIconSet2\")\n"
   ]
  },
  {
   "cell_type": "code",
   "execution_count": 105,
   "metadata": {},
   "outputs": [],
   "source": [
    "formato = {'type': 'icon_set',\n",
    "     'icon_style': '4_red_to_black',\n",
    "     'icons': [{'criteria': '>=', 'type': 'number',     'value': 200},\n",
    "               {'criteria': '<',  'type': 'number', 'value': 164},\n",
    "               {'criteria': '<=', 'type': 'number',    'value': 25}]}\n",
    "conditional_format(artistas_roles_contados,formato,rango_celdas,name='roles_contadosIconSet3.xlsx',sheet_name=\"roles_contadosIconSet3\")\n"
   ]
  },
  {
   "cell_type": "code",
   "execution_count": 107,
   "metadata": {},
   "outputs": [],
   "source": [
    "formato = {'type': 'icon_set',\n",
    "                              'icon_style': '5_arrows',\n",
    "                              'reverse_icons': True}\n",
    "conditional_format(artistas_roles_contados,formato,rango_celdas,name='roles_contadosIconSet4.xlsx',sheet_name=\"roles_contadosIconSet4\")\n"
   ]
  },
  {
   "cell_type": "code",
   "execution_count": 115,
   "metadata": {},
   "outputs": [],
   "source": [
    "# ejemplo con el df \n",
    "df_pickle = pd.read_pickle('/home/alex/Documents/py-coronel-flores-freddy-alexander/03_Pandas/data/csv/artwork_data.pickle')\n",
    "writer = pd.ExcelWriter('artworkData.xlsx',engine='xlsxwriter')\n",
    "df_pickle.to_excel(writer,sheet_name=\"artwork\")\n",
    "\n",
    "workbook = writer.book\n",
    "hoja_artwork = writer.sheets['artwork']\n",
    "\n",
    "rango_celdas_width = 'G2:G{}'.format(len(df_pickle.index))\n",
    "rango_celdas_height = 'H2:H{}'.format(len(df_pickle.index))\n",
    "\n",
    "# red\n",
    "format_red = workbook.add_format({'bg_color': '#FFC7CE',\n",
    "                               'font_color': '#9C0006'})\n",
    "\n",
    "# green \n",
    "format_green = workbook.add_format({'bg_color': '#C6EFCE',\n",
    "                               'font_color': '#006100'})\n",
    "\n",
    "# top 20 width \n",
    "hoja_artwork.conditional_format(rango_celdas_width, {'type': 'top',\n",
    "                                           'value': '20',\n",
    "                                           'format': format_green})\n",
    "# bottonm 20 width \n",
    "hoja_artwork.conditional_format(rango_celdas_width, {'type': 'bottom',\n",
    "                                           'value': '20',\n",
    "                                           'format': format_red})\n",
    "# top 20 height\n",
    "hoja_artwork.conditional_format(rango_celdas_height, {'type': 'top',\n",
    "                                           'value': '20',\n",
    "                                           'format': format_green})\n",
    "# bottom 20  height \n",
    "hoja_artwork.conditional_format(rango_celdas_height, {'type': 'bottom',\n",
    "                                           'value': '20',\n",
    "                                           'format': format_red})\n",
    "\n",
    "\n",
    "writer.save()\n"
   ]
  },
  {
   "cell_type": "code",
   "execution_count": 117,
   "metadata": {},
   "outputs": [],
   "source": [
    "writer = pd.ExcelWriter('artworkData2.xlsx',engine='xlsxwriter')\n",
    "df_pickle.to_excel(writer,sheet_name=\"artwork2\")\n",
    "\n",
    "workbook = writer.book\n",
    "hoja_artwork = writer.sheets['artwork2']\n",
    "\n",
    "rango_celdas_width = 'G2:G{}'.format(len(df_pickle.index))\n",
    "rango_celdas_height = 'H2:H{}'.format(len(df_pickle.index))\n",
    "\n",
    "\n",
    "# red\n",
    "format_red = workbook.add_format({'bg_color': '#FFC7CE',\n",
    "                               'font_color': '#9C0006'})\n",
    "\n",
    "# green \n",
    "format_green = workbook.add_format({'bg_color': '#C6EFCE',\n",
    "                               'font_color': '#006100'})\n",
    "\n",
    "# greather than 243  width \n",
    "hoja_artwork.conditional_format(rango_celdas_width, {'type':     'cell',\n",
    "                                    'criteria': 'greater than',\n",
    "                                    'value':     243,\n",
    "                                    'format':    format_green})\n",
    "# height betweent 100 ahd 180\n",
    "hoja_artwork.conditional_format(rango_celdas_height, {'type':     'cell',\n",
    "                                       'criteria': 'between',\n",
    "                                       'minimum':  100,\n",
    "                                       'maximum':  180,\n",
    "                                       'format':   format_red})\n",
    "\n",
    "\n",
    "writer.save()"
   ]
  },
  {
   "cell_type": "code",
   "execution_count": null,
   "metadata": {},
   "outputs": [],
   "source": []
  }
 ],
 "metadata": {
  "kernelspec": {
   "display_name": "Python 3",
   "language": "python",
   "name": "python3"
  },
  "language_info": {
   "codemirror_mode": {
    "name": "ipython",
    "version": 3
   },
   "file_extension": ".py",
   "mimetype": "text/x-python",
   "name": "python",
   "nbconvert_exporter": "python",
   "pygments_lexer": "ipython3",
   "version": "3.5.2"
  }
 },
 "nbformat": 4,
 "nbformat_minor": 2
}
