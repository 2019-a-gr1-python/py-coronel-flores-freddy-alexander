{
  "nbformat": 4,
  "nbformat_minor": 0,
  "metadata": {
    "colab": {
      "name": "04_loops.ipynb",
      "version": "0.3.2",
      "provenance": [],
      "collapsed_sections": []
    },
    "kernelspec": {
      "name": "python3",
      "display_name": "Python 3"
    }
  },
  "cells": [
    {
      "metadata": {
        "id": "6zgB1gXkGlD3",
        "colab_type": "code",
        "colab": {}
      },
      "cell_type": "code",
      "source": [
        "lista_numeros = [1,2,3,4,5,6,7,8,9]"
      ],
      "execution_count": 0,
      "outputs": []
    },
    {
      "metadata": {
        "id": "UbRMmH2SG4pb",
        "colab_type": "code",
        "outputId": "cdc88297-678d-4b0a-c2dd-b129aba14fbd",
        "colab": {
          "base_uri": "https://localhost:8080/",
          "height": 188
        }
      },
      "cell_type": "code",
      "source": [
        "for numero in lista_numeros:\n",
        "  print(numero)"
      ],
      "execution_count": 0,
      "outputs": [
        {
          "output_type": "stream",
          "text": [
            "1\n",
            "2\n",
            "3\n",
            "4\n",
            "5\n",
            "6\n",
            "7\n",
            "8\n",
            "9\n"
          ],
          "name": "stdout"
        }
      ]
    },
    {
      "metadata": {
        "id": "qJ9FrbUpG8mS",
        "colab_type": "code",
        "colab": {}
      },
      "cell_type": "code",
      "source": [
        "rango1 = range(1,5)"
      ],
      "execution_count": 0,
      "outputs": []
    },
    {
      "metadata": {
        "id": "TUBcRNaiHGB8",
        "colab_type": "code",
        "outputId": "cca9a037-5d51-4e77-9c1d-d332a603e4e6",
        "colab": {
          "base_uri": "https://localhost:8080/",
          "height": 36
        }
      },
      "cell_type": "code",
      "source": [
        "type(rango1)"
      ],
      "execution_count": 0,
      "outputs": [
        {
          "output_type": "execute_result",
          "data": {
            "text/plain": [
              "range"
            ]
          },
          "metadata": {
            "tags": []
          },
          "execution_count": 4
        }
      ]
    },
    {
      "metadata": {
        "id": "G8wt_ySPHIGI",
        "colab_type": "code",
        "outputId": "e4727eea-f128-4a9c-d5a6-1701eeb75cb2",
        "colab": {
          "base_uri": "https://localhost:8080/",
          "height": 36
        }
      },
      "cell_type": "code",
      "source": [
        "rango1"
      ],
      "execution_count": 0,
      "outputs": [
        {
          "output_type": "execute_result",
          "data": {
            "text/plain": [
              "range(1, 5)"
            ]
          },
          "metadata": {
            "tags": []
          },
          "execution_count": 5
        }
      ]
    },
    {
      "metadata": {
        "id": "efIyvqZfHKP5",
        "colab_type": "code",
        "outputId": "e4ed816e-21a6-4489-f748-7b8562fbe3e8",
        "colab": {
          "base_uri": "https://localhost:8080/",
          "height": 93
        }
      },
      "cell_type": "code",
      "source": [
        "for numero in rango1:\n",
        "  print(f\"numero {numero} \")"
      ],
      "execution_count": 0,
      "outputs": [
        {
          "output_type": "stream",
          "text": [
            "numero 1 \n",
            "numero 2 \n",
            "numero 3 \n",
            "numero 4 \n"
          ],
          "name": "stdout"
        }
      ]
    },
    {
      "metadata": {
        "id": "N73Hiy-0HaL6",
        "colab_type": "code",
        "outputId": "236d079e-1e8e-4061-a986-484fe9099210",
        "colab": {
          "base_uri": "https://localhost:8080/",
          "height": 169
        }
      },
      "cell_type": "code",
      "source": [
        "for numero in range(10):\n",
        "  if(numero == 4 or numero==8):\n",
        "    continue\n",
        "  print(f\"indice {numero}\")"
      ],
      "execution_count": 0,
      "outputs": [
        {
          "output_type": "stream",
          "text": [
            "indice 0\n",
            "indice 1\n",
            "indice 2\n",
            "indice 3\n",
            "indice 5\n",
            "indice 6\n",
            "indice 7\n",
            "indice 9\n"
          ],
          "name": "stdout"
        }
      ]
    },
    {
      "metadata": {
        "id": "2jTbpggGH4o_",
        "colab_type": "code",
        "outputId": "0dfb02ca-3cb9-4dc4-c60a-af160ac50217",
        "colab": {
          "base_uri": "https://localhost:8080/",
          "height": 93
        }
      },
      "cell_type": "code",
      "source": [
        "for numero in range(10):\n",
        "  if(numero == 4):\n",
        "    break\n",
        "  print(f\"indice {numero}\")"
      ],
      "execution_count": 0,
      "outputs": [
        {
          "output_type": "stream",
          "text": [
            "indice 0\n",
            "indice 1\n",
            "indice 2\n",
            "indice 3\n"
          ],
          "name": "stdout"
        }
      ]
    },
    {
      "metadata": {
        "id": "y-Ap44f2IIDK",
        "colab_type": "code",
        "outputId": "cad23171-cb15-453b-fd18-33833ec4532b",
        "colab": {
          "base_uri": "https://localhost:8080/",
          "height": 207
        }
      },
      "cell_type": "code",
      "source": [
        "numeroAuxiliar = 0\n",
        "while numeroAuxiliar<10:\n",
        "  print(f\" numero {numeroAuxiliar}\")\n",
        "  numeroAuxiliar+=1 "
      ],
      "execution_count": 0,
      "outputs": [
        {
          "output_type": "stream",
          "text": [
            " numero 0\n",
            " numero 1\n",
            " numero 2\n",
            " numero 3\n",
            " numero 4\n",
            " numero 5\n",
            " numero 6\n",
            " numero 7\n",
            " numero 8\n",
            " numero 9\n"
          ],
          "name": "stdout"
        }
      ]
    },
    {
      "metadata": {
        "id": "tClk-36rIuRX",
        "colab_type": "code",
        "colab": {}
      },
      "cell_type": "code",
      "source": [
        ""
      ],
      "execution_count": 0,
      "outputs": []
    }
  ]
}