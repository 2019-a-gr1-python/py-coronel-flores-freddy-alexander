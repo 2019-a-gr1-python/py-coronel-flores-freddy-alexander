{
 "cells": [
  {
   "cell_type": "markdown",
   "metadata": {},
   "source": [
    "# Condicionales \n"
   ]
  },
  {
   "cell_type": "code",
   "execution_count": 1,
   "metadata": {},
   "outputs": [
    {
     "name": "stdout",
     "output_type": "stream",
     "text": [
      "es verdad\n"
     ]
    }
   ],
   "source": [
    "if True:\n",
    "    print(\"es verdad\")\n",
    "else:\n",
    "    print(\"no es verdad\")"
   ]
  },
  {
   "cell_type": "code",
   "execution_count": 2,
   "metadata": {},
   "outputs": [
    {
     "data": {
      "text/plain": [
       "bool"
      ]
     },
     "execution_count": 2,
     "metadata": {},
     "output_type": "execute_result"
    }
   ],
   "source": [
    "type(True)"
   ]
  },
  {
   "cell_type": "code",
   "execution_count": 3,
   "metadata": {},
   "outputs": [
    {
     "data": {
      "text/plain": [
       "bool"
      ]
     },
     "execution_count": 3,
     "metadata": {},
     "output_type": "execute_result"
    }
   ],
   "source": [
    "type(False)"
   ]
  },
  {
   "cell_type": "markdown",
   "metadata": {},
   "source": [
    "## Truty y Falsy "
   ]
  },
  {
   "cell_type": "code",
   "execution_count": 5,
   "metadata": {
    "scrolled": true
   },
   "outputs": [
    {
     "name": "stdout",
     "output_type": "stream",
     "text": [
      "es verdad\n"
     ]
    }
   ],
   "source": [
    "if 1:\n",
    "    print(\"es verdad\")\n",
    "else:\n",
    "    print(\"no es verdad\")"
   ]
  },
  {
   "cell_type": "code",
   "execution_count": 7,
   "metadata": {},
   "outputs": [
    {
     "name": "stdout",
     "output_type": "stream",
     "text": [
      "no es verdad\n"
     ]
    }
   ],
   "source": [
    "if 0:\n",
    "    print(\"es verdad\")\n",
    "else:\n",
    "    print(\"no es verdad\")"
   ]
  },
  {
   "cell_type": "code",
   "execution_count": 8,
   "metadata": {},
   "outputs": [
    {
     "name": "stdout",
     "output_type": "stream",
     "text": [
      "es verdad\n"
     ]
    }
   ],
   "source": [
    "if -1:\n",
    "    print(\"es verdad\")\n",
    "else:\n",
    "    print(\"no es verdad\")"
   ]
  },
  {
   "cell_type": "code",
   "execution_count": 9,
   "metadata": {},
   "outputs": [
    {
     "name": "stdout",
     "output_type": "stream",
     "text": [
      "es verdad\n"
     ]
    }
   ],
   "source": [
    "if \"alex\":\n",
    "    print(\"es verdad\")\n",
    "else:\n",
    "    print(\"no es verdad\")"
   ]
  },
  {
   "cell_type": "code",
   "execution_count": 10,
   "metadata": {},
   "outputs": [
    {
     "name": "stdout",
     "output_type": "stream",
     "text": [
      "no es verdad\n"
     ]
    }
   ],
   "source": [
    "if \"\":\n",
    "    print(\"es verdad\")\n",
    "else:\n",
    "    print(\"no es verdad\")"
   ]
  },
  {
   "cell_type": "code",
   "execution_count": 11,
   "metadata": {},
   "outputs": [
    {
     "name": "stdout",
     "output_type": "stream",
     "text": [
      "no es verdad\n"
     ]
    }
   ],
   "source": [
    "if None:\n",
    "    print(\"es verdad\")\n",
    "else:\n",
    "    print(\"no es verdad\")"
   ]
  },
  {
   "cell_type": "code",
   "execution_count": 12,
   "metadata": {},
   "outputs": [
    {
     "data": {
      "text/plain": [
       "NoneType"
      ]
     },
     "execution_count": 12,
     "metadata": {},
     "output_type": "execute_result"
    }
   ],
   "source": [
    "type(None)"
   ]
  },
  {
   "cell_type": "code",
   "execution_count": 13,
   "metadata": {},
   "outputs": [
    {
     "name": "stdout",
     "output_type": "stream",
     "text": [
      "no es verdad\n"
     ]
    }
   ],
   "source": [
    "if 10>=2 and 2>3:\n",
    "    print(\"es verdad\")\n",
    "else:\n",
    "    print(\"no es verdad\")"
   ]
  },
  {
   "cell_type": "code",
   "execution_count": 14,
   "metadata": {},
   "outputs": [
    {
     "name": "stdout",
     "output_type": "stream",
     "text": [
      "no es verdad\n"
     ]
    }
   ],
   "source": [
    "if 10>=2 & 2>3:\n",
    "    print(\"es verdad\")\n",
    "else:\n",
    "    print(\"no es verdad\")"
   ]
  },
  {
   "cell_type": "code",
   "execution_count": 15,
   "metadata": {},
   "outputs": [
    {
     "name": "stdout",
     "output_type": "stream",
     "text": [
      "es verdad\n"
     ]
    }
   ],
   "source": [
    "if 10>=2 or 2>3:\n",
    "    print(\"es verdad\")\n",
    "else:\n",
    "    print(\"no es verdad\")"
   ]
  },
  {
   "cell_type": "code",
   "execution_count": 16,
   "metadata": {},
   "outputs": [
    {
     "name": "stdout",
     "output_type": "stream",
     "text": [
      "no es verdad\n"
     ]
    }
   ],
   "source": [
    "if not 10>=2:\n",
    "    print(\"es verdad\")\n",
    "else:\n",
    "    print(\"no es verdad\")"
   ]
  },
  {
   "cell_type": "code",
   "execution_count": null,
   "metadata": {},
   "outputs": [],
   "source": []
  }
 ],
 "metadata": {
  "kernelspec": {
   "display_name": "Python 3",
   "language": "python",
   "name": "python3"
  },
  "language_info": {
   "codemirror_mode": {
    "name": "ipython",
    "version": 3
   },
   "file_extension": ".py",
   "mimetype": "text/x-python",
   "name": "python",
   "nbconvert_exporter": "python",
   "pygments_lexer": "ipython3",
   "version": "3.5.2"
  }
 },
 "nbformat": 4,
 "nbformat_minor": 2
}
