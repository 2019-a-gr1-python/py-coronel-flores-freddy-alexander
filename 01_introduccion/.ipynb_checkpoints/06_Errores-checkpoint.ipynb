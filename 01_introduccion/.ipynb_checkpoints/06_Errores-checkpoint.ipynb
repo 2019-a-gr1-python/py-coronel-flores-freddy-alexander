{
 "cells": [
  {
   "cell_type": "markdown",
   "metadata": {},
   "source": [
    "## Errores"
   ]
  },
  {
   "cell_type": "code",
   "execution_count": 1,
   "metadata": {},
   "outputs": [],
   "source": [
    "alex = {\n",
    "    'nombre':'Alex'\n",
    "}"
   ]
  },
  {
   "cell_type": "code",
   "execution_count": 3,
   "metadata": {},
   "outputs": [],
   "source": [
    "# alex['dsfdf'] -> key error \n",
    "# ++ syntaxerro\n",
    "# sdfa.sdaf NameError\n",
    "# '1' + 1 TypeError"
   ]
  },
  {
   "cell_type": "code",
   "execution_count": 18,
   "metadata": {},
   "outputs": [
    {
     "name": "stdout",
     "output_type": "stream",
     "text": [
      "'asd'\n"
     ]
    }
   ],
   "source": [
    "try:\n",
    "    print(alex['asd'])\n",
    "    asd\n",
    "    '1'+1\n",
    "except KeyError as keyError:\n",
    "    print(keyError)\n",
    "except (NameError,KeyError) as nameError:\n",
    "    print(nameError)\n",
    "except TypeError as typeError:\n",
    "    print(typeError)\n",
    "except Exception as error:\n",
    "    print('errores generales')\n",
    "    print(error.__traceback__)\n",
    "    "
   ]
  },
  {
   "cell_type": "code",
   "execution_count": null,
   "metadata": {},
   "outputs": [],
   "source": []
  }
 ],
 "metadata": {
  "kernelspec": {
   "display_name": "Python 3",
   "language": "python",
   "name": "python3"
  },
  "language_info": {
   "codemirror_mode": {
    "name": "ipython",
    "version": 3
   },
   "file_extension": ".py",
   "mimetype": "text/x-python",
   "name": "python",
   "nbconvert_exporter": "python",
   "pygments_lexer": "ipython3",
   "version": "3.5.2"
  }
 },
 "nbformat": 4,
 "nbformat_minor": 2
}
