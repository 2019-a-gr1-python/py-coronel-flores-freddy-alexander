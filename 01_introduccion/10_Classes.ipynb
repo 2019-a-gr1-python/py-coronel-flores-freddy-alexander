{
 "cells": [
  {
   "cell_type": "markdown",
   "metadata": {},
   "source": [
    "# Clases"
   ]
  },
  {
   "cell_type": "code",
   "execution_count": 1,
   "metadata": {},
   "outputs": [],
   "source": [
    "class Hada:\n",
    "    pass"
   ]
  },
  {
   "cell_type": "code",
   "execution_count": 2,
   "metadata": {},
   "outputs": [],
   "source": [
    "una_hada = Hada() "
   ]
  },
  {
   "cell_type": "code",
   "execution_count": 3,
   "metadata": {},
   "outputs": [
    {
     "name": "stdout",
     "output_type": "stream",
     "text": [
      "<__main__.Hada object at 0x7fca707ed198>\n"
     ]
    }
   ],
   "source": [
    "print(una_hada)"
   ]
  },
  {
   "cell_type": "code",
   "execution_count": 4,
   "metadata": {},
   "outputs": [
    {
     "data": {
      "text/plain": [
       "__main__.Hada"
      ]
     },
     "execution_count": 4,
     "metadata": {},
     "output_type": "execute_result"
    }
   ],
   "source": [
    "type(una_hada)"
   ]
  },
  {
   "cell_type": "code",
   "execution_count": 69,
   "metadata": {},
   "outputs": [],
   "source": [
    "class Auto:\n",
    "    color = 'negro'\n",
    "    __numero_calculo = 1024\n",
    "    \n",
    "    def __init__(self,placa):\n",
    "        print('inicializando el auto')\n",
    "        self.placa = placa\n",
    "    \n",
    "    def __str__(self):\n",
    "        return \"color {}\\nplaca: {} \".format(self.color,self.placa)\n",
    "    \n",
    "    def calcular_impuesto(self,year):\n",
    "        tota_a_pagar = self.__calculo(year)\n",
    "        print('total a pagar {} '.format(tota_a_pagar))\n",
    "        return self.__calculo(year)\n",
    "        \n",
    "    \n",
    "    def _calculo(self,year):\n",
    "        return year/2 + self.__numero_calculo "
   ]
  },
  {
   "cell_type": "code",
   "execution_count": 55,
   "metadata": {},
   "outputs": [
    {
     "name": "stdout",
     "output_type": "stream",
     "text": [
      "inicializando el auto\n"
     ]
    }
   ],
   "source": [
    "coche = Auto('PIK-1234') "
   ]
  },
  {
   "cell_type": "code",
   "execution_count": 56,
   "metadata": {},
   "outputs": [
    {
     "data": {
      "text/plain": [
       "'negro'"
      ]
     },
     "execution_count": 56,
     "metadata": {},
     "output_type": "execute_result"
    }
   ],
   "source": [
    "coche.color"
   ]
  },
  {
   "cell_type": "code",
   "execution_count": 57,
   "metadata": {},
   "outputs": [
    {
     "name": "stdout",
     "output_type": "stream",
     "text": [
      "color negro\n",
      "placa: PIK-1234 \n"
     ]
    }
   ],
   "source": [
    "print(coche)"
   ]
  },
  {
   "cell_type": "code",
   "execution_count": 53,
   "metadata": {},
   "outputs": [
    {
     "name": "stdout",
     "output_type": "stream",
     "text": [
      "total a pagar 2030.0 \n"
     ]
    },
    {
     "data": {
      "text/plain": [
       "2030.0"
      ]
     },
     "execution_count": 53,
     "metadata": {},
     "output_type": "execute_result"
    }
   ],
   "source": [
    "coche.calcular_impuesto(2012)"
   ]
  },
  {
   "cell_type": "code",
   "execution_count": 91,
   "metadata": {},
   "outputs": [],
   "source": [
    "class BMW(Auto):\n",
    "   \n",
    "    def __init__(self,placa,hp_motor=5000):\n",
    "        super().__init__(placa)\n",
    "        self.hp_motor = hp_motor\n",
    "    \n",
    "        \n",
    "        \n",
    "    \n",
    "    def __str__(self):\n",
    "        print(self._calculo(2015))\n",
    "        return 'color: {}\\nplaca: {}\\n hp motor: {}'.format(self.color,self.placa,self.hp_motor)"
   ]
  },
  {
   "cell_type": "code",
   "execution_count": 92,
   "metadata": {},
   "outputs": [
    {
     "name": "stdout",
     "output_type": "stream",
     "text": [
      "inicializando el auto\n"
     ]
    }
   ],
   "source": [
    "nuevo_bmw = BMW(placa='PIK-5487',hp_motor=4854)"
   ]
  },
  {
   "cell_type": "code",
   "execution_count": 93,
   "metadata": {},
   "outputs": [
    {
     "name": "stdout",
     "output_type": "stream",
     "text": [
      "2031.5\n",
      "color: negro\n",
      "placa: PIK-5487\n",
      " hp motor: 4854\n"
     ]
    }
   ],
   "source": [
    "print(nuevo_bmw)"
   ]
  },
  {
   "cell_type": "code",
   "execution_count": null,
   "metadata": {},
   "outputs": [],
   "source": []
  },
  {
   "cell_type": "code",
   "execution_count": null,
   "metadata": {},
   "outputs": [],
   "source": []
  }
 ],
 "metadata": {
  "kernelspec": {
   "display_name": "Python 3",
   "language": "python",
   "name": "python3"
  },
  "language_info": {
   "codemirror_mode": {
    "name": "ipython",
    "version": 3
   },
   "file_extension": ".py",
   "mimetype": "text/x-python",
   "name": "python",
   "nbconvert_exporter": "python",
   "pygments_lexer": "ipython3",
   "version": "3.5.2"
  }
 },
 "nbformat": 4,
 "nbformat_minor": 2
}
