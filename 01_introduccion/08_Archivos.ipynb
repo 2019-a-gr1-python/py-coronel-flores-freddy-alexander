{
 "cells": [
  {
   "cell_type": "code",
   "execution_count": 14,
   "metadata": {},
   "outputs": [
    {
     "name": "stdout",
     "output_type": "stream",
     "text": [
      "<_io.TextIOWrapper name='./08_archivos.txt' mode='r' encoding='UTF-8'>\n",
      "['Buenos días \\n', 'Buenas Tardes \\n']\n",
      "<class 'list'>\n",
      "Buenos días \n",
      "\n",
      "Buenas Tardes \n",
      "\n"
     ]
    }
   ],
   "source": [
    "try:\n",
    "    path = './08_archivos.txt'\n",
    "    archivo = open(path)\n",
    "    print(archivo)\n",
    "    #print(\"typy \",type(archivo))\n",
    "    #linea = archivo.readline()\n",
    "    #print(\"linea {}\".format(linea))\n",
    "    lineas_archivo = archivo.readlines() \n",
    "    print(lineas_archivo)\n",
    "    print(type(lineas_archivo))\n",
    "    for linea in lineas_archivo:\n",
    "        print(linea)\n",
    "    archivo.close() \n",
    "except:\n",
    "    print(\" error abriendo archivo \")\n",
    "    \n"
   ]
  },
  {
   "cell_type": "code",
   "execution_count": 24,
   "metadata": {},
   "outputs": [],
   "source": [
    "try:\n",
    "    path='./08_archivos.txt'\n",
    "    write_file = open(path,mode='a')\n",
    "    write_file.write('buenas noches\\n') # sobre escribe \n",
    "    write_file.writelines(['hola\\n','mundo\\n'])\n",
    "    write_file.close()\n",
    "except:\n",
    "    print(\"file error \")"
   ]
  },
  {
   "cell_type": "code",
   "execution_count": null,
   "metadata": {},
   "outputs": [],
   "source": []
  }
 ],
 "metadata": {
  "kernelspec": {
   "display_name": "Python 3",
   "language": "python",
   "name": "python3"
  },
  "language_info": {
   "codemirror_mode": {
    "name": "ipython",
    "version": 3
   },
   "file_extension": ".py",
   "mimetype": "text/x-python",
   "name": "python",
   "nbconvert_exporter": "python",
   "pygments_lexer": "ipython3",
   "version": "3.5.2"
  }
 },
 "nbformat": 4,
 "nbformat_minor": 2
}
