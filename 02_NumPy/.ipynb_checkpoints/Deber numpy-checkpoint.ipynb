{
 "cells": [
  {
   "cell_type": "code",
   "execution_count": 0,
   "metadata": {
    "colab": {},
    "colab_type": "code",
    "id": "xahg5tX2HNb5"
   },
   "outputs": [],
   "source": [
    "import numpy as np "
   ]
  },
  {
   "cell_type": "markdown",
   "metadata": {
    "colab_type": "text",
    "id": "uaTEO_34Gpcz"
   },
   "source": [
    "# Deber \n",
    "1. Crear con numpy array de shape (3,5) de ceros, (2,4) de unos, una matriz identidad de (4,4).\n",
    "Luego imprimir para cada uno: el shape y el número de dimensiones: "
   ]
  },
  {
   "cell_type": "code",
   "execution_count": 66,
   "metadata": {
    "colab": {
     "base_uri": "https://localhost:8080/",
     "height": 221
    },
    "colab_type": "code",
    "executionInfo": {
     "elapsed": 1398,
     "status": "ok",
     "timestamp": 1557905189498,
     "user": {
      "displayName": "Alex Coronel",
      "photoUrl": "https://lh5.googleusercontent.com/-mGZtgIWidXo/AAAAAAAAAAI/AAAAAAAAAhk/jqD97M2f2Jc/s64/photo.jpg",
      "userId": "12867292115662146102"
     },
     "user_tz": 300
    },
    "id": "uA_VYlt_HMGo",
    "outputId": "19ee4448-c5f4-4b24-9712-6ff979bd39e0"
   },
   "outputs": [
    {
     "name": "stdout",
     "output_type": "stream",
     "text": [
      "Array de ceros : \n",
      " [[0. 0. 0. 0. 0.]\n",
      " [0. 0. 0. 0. 0.]\n",
      " [0. 0. 0. 0. 0.]]\n",
      "Array de unos: \n",
      "[[1. 1. 1. 1.]\n",
      " [1. 1. 1. 1.]]\n",
      "Array identidad \n",
      " [[1. 0. 0. 0.]\n",
      " [0. 1. 0. 0.]\n",
      " [0. 0. 1. 0.]\n",
      " [0. 0. 0. 1.]] \n"
     ]
    }
   ],
   "source": [
    "array_ceros = np.zeros((3,5))\n",
    "array_unos = np.ones((2,4))\n",
    "array_identidad = np.eye(4)\n",
    "print(f\"Array de ceros : \\n {array_ceros}\")\n",
    "print(f\"Array de unos: \\n{array_unos}\")\n",
    "print(f\"Array identidad \\n {array_identidad} \")"
   ]
  },
  {
   "cell_type": "code",
   "execution_count": 67,
   "metadata": {
    "colab": {
     "base_uri": "https://localhost:8080/",
     "height": 68
    },
    "colab_type": "code",
    "executionInfo": {
     "elapsed": 1671,
     "status": "ok",
     "timestamp": 1557905189961,
     "user": {
      "displayName": "Alex Coronel",
      "photoUrl": "https://lh5.googleusercontent.com/-mGZtgIWidXo/AAAAAAAAAAI/AAAAAAAAAhk/jqD97M2f2Jc/s64/photo.jpg",
      "userId": "12867292115662146102"
     },
     "user_tz": 300
    },
    "id": "eRnS93oTH43J",
    "outputId": "df55da03-e98f-4281-d3c9-bd9bcfc0be38"
   },
   "outputs": [
    {
     "name": "stdout",
     "output_type": "stream",
     "text": [
      "shape del array de ceros (3, 5) y su numero de dimensiones 2\n",
      "shape del array de unos (2, 4) y su numero de dimensiones 2\n",
      "shape del array de identidad (4, 4) y su numero de dimensiones 2\n"
     ]
    }
   ],
   "source": [
    "print(f\"shape del array de ceros {array_ceros.shape} y su numero de dimensiones {array_ceros.ndim}\")\n",
    "print(f\"shape del array de unos {array_unos.shape} y su numero de dimensiones {array_unos.ndim}\")\n",
    "print(f\"shape del array de identidad {array_identidad.shape} y su numero de dimensiones {array_identidad.ndim}\")\n"
   ]
  },
  {
   "cell_type": "markdown",
   "metadata": {
    "colab_type": "text",
    "id": "lwqP9EouJ3rl"
   },
   "source": [
    "2. Crear un array randomico de enteros de shape(5x3) que representa las notas de 5 estudiantes en 3 materias \n",
    "realizar \n",
    "* el promedio de notas por estudiante y materia\n",
    "* la desviación estandar por estudiante y materia \n",
    "* la nota mínima por estudiante y materia \n",
    "* la nota máxima por estudiante y materia "
   ]
  },
  {
   "cell_type": "code",
   "execution_count": 68,
   "metadata": {
    "colab": {
     "base_uri": "https://localhost:8080/",
     "height": 102
    },
    "colab_type": "code",
    "executionInfo": {
     "elapsed": 1859,
     "status": "ok",
     "timestamp": 1557905190513,
     "user": {
      "displayName": "Alex Coronel",
      "photoUrl": "https://lh5.googleusercontent.com/-mGZtgIWidXo/AAAAAAAAAAI/AAAAAAAAAhk/jqD97M2f2Jc/s64/photo.jpg",
      "userId": "12867292115662146102"
     },
     "user_tz": 300
    },
    "id": "nghI41krJgVH",
    "outputId": "ec7ad57c-a714-41b6-9fb9-362c920f6941"
   },
   "outputs": [
    {
     "name": "stdout",
     "output_type": "stream",
     "text": [
      "[[ 8  9  8]\n",
      " [ 2  6  2]\n",
      " [ 7  6  3]\n",
      " [ 5  4 10]\n",
      " [ 4  1 10]]\n"
     ]
    }
   ],
   "source": [
    "notas = np.random.randint(low=1,high=11,size=(5,3))\n",
    "print(notas)"
   ]
  },
  {
   "cell_type": "code",
   "execution_count": 69,
   "metadata": {
    "colab": {
     "base_uri": "https://localhost:8080/",
     "height": 51
    },
    "colab_type": "code",
    "executionInfo": {
     "elapsed": 1682,
     "status": "ok",
     "timestamp": 1557905190514,
     "user": {
      "displayName": "Alex Coronel",
      "photoUrl": "https://lh5.googleusercontent.com/-mGZtgIWidXo/AAAAAAAAAAI/AAAAAAAAAhk/jqD97M2f2Jc/s64/photo.jpg",
      "userId": "12867292115662146102"
     },
     "user_tz": 300
    },
    "id": "YHQ-ZcwRL88w",
    "outputId": "099de996-8915-4ec9-9012-d758d852e9ca"
   },
   "outputs": [
    {
     "name": "stdout",
     "output_type": "stream",
     "text": [
      "promedio por estudiante [8.33333333 3.33333333 5.33333333 6.33333333 5.        ]\n",
      "promedio por materia [5.2 5.2 6.6]\n"
     ]
    }
   ],
   "source": [
    "print(f\"promedio por estudiante {notas.mean(axis=1)}\")\n",
    "print(f\"promedio por materia {notas.mean(axis=0)}\")"
   ]
  },
  {
   "cell_type": "code",
   "execution_count": 70,
   "metadata": {
    "colab": {
     "base_uri": "https://localhost:8080/",
     "height": 51
    },
    "colab_type": "code",
    "executionInfo": {
     "elapsed": 1481,
     "status": "ok",
     "timestamp": 1557905190516,
     "user": {
      "displayName": "Alex Coronel",
      "photoUrl": "https://lh5.googleusercontent.com/-mGZtgIWidXo/AAAAAAAAAAI/AAAAAAAAAhk/jqD97M2f2Jc/s64/photo.jpg",
      "userId": "12867292115662146102"
     },
     "user_tz": 300
    },
    "id": "gW0EXYKzMTDJ",
    "outputId": "ec4f7cb6-6d46-4d32-f415-3f5c4d7af13a"
   },
   "outputs": [
    {
     "name": "stdout",
     "output_type": "stream",
     "text": [
      "std por estudiante [0.47140452 1.88561808 1.69967317 2.62466929 3.74165739]\n",
      "std por materia [2.13541565 2.63818119 3.44093011]\n"
     ]
    }
   ],
   "source": [
    "print(f\"std por estudiante {notas.std(axis=1)}\")\n",
    "print(f\"std por materia {notas.std(axis=0)}\")"
   ]
  },
  {
   "cell_type": "code",
   "execution_count": 71,
   "metadata": {
    "colab": {
     "base_uri": "https://localhost:8080/",
     "height": 51
    },
    "colab_type": "code",
    "executionInfo": {
     "elapsed": 1082,
     "status": "ok",
     "timestamp": 1557905190517,
     "user": {
      "displayName": "Alex Coronel",
      "photoUrl": "https://lh5.googleusercontent.com/-mGZtgIWidXo/AAAAAAAAAAI/AAAAAAAAAhk/jqD97M2f2Jc/s64/photo.jpg",
      "userId": "12867292115662146102"
     },
     "user_tz": 300
    },
    "id": "nCtzfqZ7Mg0x",
    "outputId": "7a0a9575-ce7b-447b-9d9e-70b6ecd0ad95"
   },
   "outputs": [
    {
     "name": "stdout",
     "output_type": "stream",
     "text": [
      "nota minima por estudiante [8 2 3 4 1]\n",
      "nota minima por materia [2 1 2]\n"
     ]
    }
   ],
   "source": [
    "print(f\"nota minima por estudiante {notas.min(axis=1)}\")\n",
    "print(f\"nota minima por materia {notas.min(axis=0)}\")"
   ]
  },
  {
   "cell_type": "code",
   "execution_count": 72,
   "metadata": {
    "colab": {
     "base_uri": "https://localhost:8080/",
     "height": 51
    },
    "colab_type": "code",
    "executionInfo": {
     "elapsed": 1888,
     "status": "ok",
     "timestamp": 1557905191647,
     "user": {
      "displayName": "Alex Coronel",
      "photoUrl": "https://lh5.googleusercontent.com/-mGZtgIWidXo/AAAAAAAAAAI/AAAAAAAAAhk/jqD97M2f2Jc/s64/photo.jpg",
      "userId": "12867292115662146102"
     },
     "user_tz": 300
    },
    "id": "Zpjp_7DnMqo9",
    "outputId": "3f101ecb-77da-4f98-c928-0c5a8e12baca"
   },
   "outputs": [
    {
     "name": "stdout",
     "output_type": "stream",
     "text": [
      "nota maxima por estudiante [ 9  6  7 10 10]\n",
      "nota maxima por materia [ 8  9 10]\n"
     ]
    }
   ],
   "source": [
    "print(f\"nota maxima por estudiante {notas.max(axis=1)}\")\n",
    "print(f\"nota maxima por materia {notas.max(axis=0)}\")"
   ]
  },
  {
   "cell_type": "markdown",
   "metadata": {
    "colab_type": "text",
    "id": "JZiUYwF8OzqV"
   },
   "source": [
    "3.En AI una neurona está definida por la siguiente expresion matematica: dot(x,w)+ b donde X es la matriz de  shape  (N,M) que representan las las n entradas con m atributos de un conjunto de datos, w son los pesos (weights)  b es bias (sesgo). implementar la expresion anterior utilizando numpy. \n",
    "w es un array de shape = M  y b es una array de shape=N cuyos elementos es un valor fijo.\n",
    "* crear los arrays de manera randomica \n",
    "* cual es el resultado de la operacion \n",
    "* cual es el shape del resutado "
   ]
  },
  {
   "cell_type": "code",
   "execution_count": 0,
   "metadata": {
    "colab": {},
    "colab_type": "code",
    "id": "CqMIyrBlOEGk"
   },
   "outputs": [],
   "source": [
    "x = np.random.randint(100,size=(10,4))\n",
    "w = np.random.rand(4)\n",
    "b = np.ones(10)*5 \n",
    "y_hat = np.dot(x,w) + b "
   ]
  },
  {
   "cell_type": "code",
   "execution_count": 74,
   "metadata": {
    "colab": {
     "base_uri": "https://localhost:8080/",
     "height": 51
    },
    "colab_type": "code",
    "executionInfo": {
     "elapsed": 2153,
     "status": "ok",
     "timestamp": 1557905192821,
     "user": {
      "displayName": "Alex Coronel",
      "photoUrl": "https://lh5.googleusercontent.com/-mGZtgIWidXo/AAAAAAAAAAI/AAAAAAAAAhk/jqD97M2f2Jc/s64/photo.jpg",
      "userId": "12867292115662146102"
     },
     "user_tz": 300
    },
    "id": "4MjWTSTcM9BM",
    "outputId": "afb6f5cb-5bb9-4aa8-f31e-27ff0ab5846f"
   },
   "outputs": [
    {
     "name": "stdout",
     "output_type": "stream",
     "text": [
      "[33.32344305 30.76468857 16.19556449 24.37024687 64.43241641 90.43212985\n",
      " 69.39509495 69.67467574 70.67219527 56.48312905]\n"
     ]
    }
   ],
   "source": [
    "print(y_hat)"
   ]
  },
  {
   "cell_type": "code",
   "execution_count": 75,
   "metadata": {
    "colab": {
     "base_uri": "https://localhost:8080/",
     "height": 34
    },
    "colab_type": "code",
    "executionInfo": {
     "elapsed": 1866,
     "status": "ok",
     "timestamp": 1557905192822,
     "user": {
      "displayName": "Alex Coronel",
      "photoUrl": "https://lh5.googleusercontent.com/-mGZtgIWidXo/AAAAAAAAAAI/AAAAAAAAAhk/jqD97M2f2Jc/s64/photo.jpg",
      "userId": "12867292115662146102"
     },
     "user_tz": 300
    },
    "id": "n1qkABU5R07B",
    "outputId": "4712ed91-8caf-49e7-aa45-f3d8bcf1b662"
   },
   "outputs": [
    {
     "name": "stdout",
     "output_type": "stream",
     "text": [
      "resultado neurona shape: (10,)\n"
     ]
    }
   ],
   "source": [
    "print(f\"resultado neurona shape: {y_hat.shape}\")"
   ]
  },
  {
   "cell_type": "markdown",
   "metadata": {
    "colab_type": "text",
    "id": "8yWIvhNYXF1S"
   },
   "source": [
    "\n",
    "4. Dado utilice numpy para evaluar un conjunto de elementos con la funcion \n",
    "f(x) = x*x + x*sin(x) + tan(x)\n",
    "muestre el resultado \n"
   ]
  },
  {
   "cell_type": "code",
   "execution_count": 0,
   "metadata": {
    "colab": {},
    "colab_type": "code",
    "id": "hFFXLPd_SE0k"
   },
   "outputs": [],
   "source": [
    "def f(x):\n",
    "  return x**2 +x*np.sin(x) + np.tan(x)"
   ]
  },
  {
   "cell_type": "code",
   "execution_count": 77,
   "metadata": {
    "colab": {
     "base_uri": "https://localhost:8080/",
     "height": 34
    },
    "colab_type": "code",
    "executionInfo": {
     "elapsed": 1374,
     "status": "ok",
     "timestamp": 1557905193446,
     "user": {
      "displayName": "Alex Coronel",
      "photoUrl": "https://lh5.googleusercontent.com/-mGZtgIWidXo/AAAAAAAAAAI/AAAAAAAAAhk/jqD97M2f2Jc/s64/photo.jpg",
      "userId": "12867292115662146102"
     },
     "user_tz": 300
    },
    "id": "YVv6hFWVYO6m",
    "outputId": "51bd9b1b-39e7-42e7-998c-c447efd4a7e4"
   },
   "outputs": [
    {
     "name": "stdout",
     "output_type": "stream",
     "text": [
      "resultado: [   9.28081348 1173.36531237 2064.91043379]\n"
     ]
    }
   ],
   "source": [
    "array = np.array([3,34,45])\n",
    "print(f\"resultado: {f(array)}\")"
   ]
  },
  {
   "cell_type": "markdown",
   "metadata": {
    "colab_type": "text",
    "id": "GBa8FWzXYsuz"
   },
   "source": [
    "5. Dado el siguiente array encontrar: \n",
    "* las dos primeras filas \n",
    "* las dos primeras columnas \n",
    "* el primer y penultimo elemento \n"
   ]
  },
  {
   "cell_type": "code",
   "execution_count": 0,
   "metadata": {
    "colab": {},
    "colab_type": "code",
    "id": "420HL2IEYbG6"
   },
   "outputs": [],
   "source": [
    "array_5 = np.array([\n",
    "    [\"Alex\",\"Segundo\",\"No se que poner\"],\n",
    "    [\"Que se yo\",\"Alex\",\"Gato\"],\n",
    "    [\"Vamos\", \"Python\", \"is the best\"]\n",
    "])"
   ]
  },
  {
   "cell_type": "code",
   "execution_count": 80,
   "metadata": {
    "colab": {
     "base_uri": "https://localhost:8080/",
     "height": 51
    },
    "colab_type": "code",
    "executionInfo": {
     "elapsed": 4753,
     "status": "ok",
     "timestamp": 1557905414911,
     "user": {
      "displayName": "Alex Coronel",
      "photoUrl": "https://lh5.googleusercontent.com/-mGZtgIWidXo/AAAAAAAAAAI/AAAAAAAAAhk/jqD97M2f2Jc/s64/photo.jpg",
      "userId": "12867292115662146102"
     },
     "user_tz": 300
    },
    "id": "C2JnDHEzZQM5",
    "outputId": "7930709b-0729-4698-896c-7c44e6441b6d"
   },
   "outputs": [
    {
     "name": "stdout",
     "output_type": "stream",
     "text": [
      "dos primeras filas [['Alex' 'Segundo' 'No se que poner']\n",
      " ['Que se yo' 'Alex' 'Gato']]\n"
     ]
    }
   ],
   "source": [
    "print(f\"dos primeras filas {array_5[:2,:]}\")"
   ]
  },
  {
   "cell_type": "code",
   "execution_count": 81,
   "metadata": {
    "colab": {
     "base_uri": "https://localhost:8080/",
     "height": 68
    },
    "colab_type": "code",
    "executionInfo": {
     "elapsed": 1143,
     "status": "ok",
     "timestamp": 1557905458916,
     "user": {
      "displayName": "Alex Coronel",
      "photoUrl": "https://lh5.googleusercontent.com/-mGZtgIWidXo/AAAAAAAAAAI/AAAAAAAAAhk/jqD97M2f2Jc/s64/photo.jpg",
      "userId": "12867292115662146102"
     },
     "user_tz": 300
    },
    "id": "SJjZvf_SZeeG",
    "outputId": "f773d4ac-1768-45f3-8e2e-aeb870155755"
   },
   "outputs": [
    {
     "name": "stdout",
     "output_type": "stream",
     "text": [
      "dos primeras columnas [['Alex' 'Segundo']\n",
      " ['Que se yo' 'Alex']\n",
      " ['Vamos' 'Python']]\n"
     ]
    }
   ],
   "source": [
    "print(f\"dos primeras columnas {array_5[:,:2]}\")"
   ]
  },
  {
   "cell_type": "code",
   "execution_count": 82,
   "metadata": {
    "colab": {
     "base_uri": "https://localhost:8080/",
     "height": 34
    },
    "colab_type": "code",
    "executionInfo": {
     "elapsed": 6852,
     "status": "ok",
     "timestamp": 1557905592266,
     "user": {
      "displayName": "Alex Coronel",
      "photoUrl": "https://lh5.googleusercontent.com/-mGZtgIWidXo/AAAAAAAAAAI/AAAAAAAAAhk/jqD97M2f2Jc/s64/photo.jpg",
      "userId": "12867292115662146102"
     },
     "user_tz": 300
    },
    "id": "3QxW6szcZsIj",
    "outputId": "86b32604-3f6c-4ab3-8ef8-7649a25d851b"
   },
   "outputs": [
    {
     "name": "stdout",
     "output_type": "stream",
     "text": [
      "primer y penultimo elemento del array [['Alex' 'Python']]\n"
     ]
    }
   ],
   "source": [
    "filas = np.array([\n",
    "    [0,2]\n",
    "])\n",
    "columnas =  np.array([\n",
    "    [0,1]\n",
    "])\n",
    "\n",
    "print(f\"primer y penultimo elemento del array {array_5[filas,columnas]}\")"
   ]
  },
  {
   "cell_type": "code",
   "execution_count": 0,
   "metadata": {
    "colab": {},
    "colab_type": "code",
    "id": "Na6F0uPsaLS3"
   },
   "outputs": [],
   "source": []
  }
 ],
 "metadata": {
  "colab": {
   "collapsed_sections": [],
   "name": "Deber numpy.ipynb",
   "provenance": [],
   "version": "0.3.2"
  },
  "kernelspec": {
   "display_name": "Python 3",
   "language": "python",
   "name": "python3"
  },
  "language_info": {
   "codemirror_mode": {
    "name": "ipython",
    "version": 3
   },
   "file_extension": ".py",
   "mimetype": "text/x-python",
   "name": "python",
   "nbconvert_exporter": "python",
   "pygments_lexer": "ipython3",
   "version": "3.5.2"
  }
 },
 "nbformat": 4,
 "nbformat_minor": 1
}
